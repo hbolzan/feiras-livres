{
 "cells": [
  {
   "cell_type": "code",
   "execution_count": 26,
   "metadata": {
    "collapsed": true
   },
   "outputs": [],
   "source": [
    "import json\n",
    "from django.core import serializers\n",
    "from django.forms.models import model_to_dict\n",
    "from feira.models import Distrito, Subprefeitura, Feira"
   ]
  },
  {
   "cell_type": "code",
   "execution_count": null,
   "metadata": {
    "collapsed": false
   },
   "outputs": [],
   "source": [
    "feira = Feira.objects.first()"
   ]
  },
  {
   "cell_type": "code",
   "execution_count": null,
   "metadata": {
    "collapsed": false
   },
   "outputs": [],
   "source": [
    "feira.distrito.nome, feira.subprefeitura.nome"
   ]
  },
  {
   "cell_type": "code",
   "execution_count": null,
   "metadata": {
    "collapsed": false,
    "scrolled": true
   },
   "outputs": [],
   "source": [
    "json.dumps([serializar_feira(feira) for feira in [Feira.objects.first()]])"
   ]
  },
  {
   "cell_type": "code",
   "execution_count": null,
   "metadata": {
    "collapsed": false
   },
   "outputs": [],
   "source": [
    "def serializar_feira(feira_obj):\n",
    "    return dict(\n",
    "        {k: v for k, v in feira_obj.__dict__.iteritems() if not k.startswith(\"_\")},\n",
    "        **{\n",
    "            \"subprefeitura_nome\": feira_obj.subprefeitura.nome,\n",
    "            \"distrito_nome\": feira_obj.distrito.nome,\n",
    "        }\n",
    "    )\n"
   ]
  },
  {
   "cell_type": "code",
   "execution_count": null,
   "metadata": {
    "collapsed": false
   },
   "outputs": [],
   "source": [
    "serializar_feira(feira)"
   ]
  },
  {
   "cell_type": "code",
   "execution_count": null,
   "metadata": {
    "collapsed": false
   },
   "outputs": [],
   "source": [
    "Feira.objects.all().count()"
   ]
  },
  {
   "cell_type": "code",
   "execution_count": null,
   "metadata": {
    "collapsed": false
   },
   "outputs": [],
   "source": [
    "len(Feira.objects.all()) "
   ]
  },
  {
   "cell_type": "code",
   "execution_count": null,
   "metadata": {
    "collapsed": true
   },
   "outputs": [],
   "source": [
    "permitidos = [\"POST\", \"GET\"]"
   ]
  },
  {
   "cell_type": "code",
   "execution_count": null,
   "metadata": {
    "collapsed": false
   },
   "outputs": [],
   "source": [
    "\"x\" not in permitidos"
   ]
  },
  {
   "cell_type": "code",
   "execution_count": null,
   "metadata": {
    "collapsed": false
   },
   "outputs": [],
   "source": [
    "try:\n",
    "    raise Exception(\"TESTE\")\n",
    "except Exception as e:\n",
    "    print 'ERRO: {}'.format(e)\n",
    "    "
   ]
  },
  {
   "cell_type": "code",
   "execution_count": null,
   "metadata": {
    "collapsed": false
   },
   "outputs": [],
   "source": [
    "str(e)"
   ]
  },
  {
   "cell_type": "code",
   "execution_count": null,
   "metadata": {
    "collapsed": false
   },
   "outputs": [],
   "source": [
    "l = [\"a\", \"b\", \"c\"]\n",
    "reduce(lambda s, e: s and e in l, [\"x\", \"b\", \"c\"], True)"
   ]
  },
  {
   "cell_type": "code",
   "execution_count": null,
   "metadata": {
    "collapsed": true
   },
   "outputs": [],
   "source": [
    "fn = lambda s, e: s and e in l"
   ]
  },
  {
   "cell_type": "code",
   "execution_count": null,
   "metadata": {
    "collapsed": false
   },
   "outputs": [],
   "source": [
    "fn(\"a\")"
   ]
  },
  {
   "cell_type": "code",
   "execution_count": null,
   "metadata": {
    "collapsed": false
   },
   "outputs": [],
   "source": [
    "Feira.objects.get(**{\"id\": 1})"
   ]
  },
  {
   "cell_type": "code",
   "execution_count": null,
   "metadata": {
    "collapsed": false
   },
   "outputs": [],
   "source": [
    "cls = Feira\n",
    "try:\n",
    "    Feira.objects.get(id=1000)\n",
    "except cls.DoesNotExist:\n",
    "    print u\"Esta feira não existe\""
   ]
  },
  {
   "cell_type": "code",
   "execution_count": 14,
   "metadata": {
    "collapsed": true
   },
   "outputs": [],
   "source": [
    "dados = {\n",
    "  \"distrito_nome\": \"VILA FORMOSA\",\n",
    "  \"referencia\": \"TV RUA PRETORIA\",\n",
    "  \"regiao_5\": \"Leste\",\n",
    "  \"longitude\": \"-46550164\",\n",
    "  \"area_ponderacao\": \"3550308005040\",\n",
    "  \"nome\": \"VILA FORMOSA\",\n",
    "  \"bairro\": \"VL FORMOSA\",\n",
    "  \"subprefeitura_id\": 26,\n",
    "  \"logradouro\": \"RUA MARAGOJIPE\",\n",
    "  \"setor_censitario\": \"355030885000091\",\n",
    "  \"numero\": \"S/N\",\n",
    "  \"distrito_id\": 87,\n",
    "  \"registro\": \"4041-0\",\n",
    "  \"regiao_8\": \"Leste 1\",\n",
    "  \"latitude\": \"-23558733\",\n",
    "  \"id\": 1001,\n",
    "  \"subprefeitura_nome\": \"ARICANDUVA-FORMOSA-CARRAO\"\n",
    "}\n",
    "del(dados[\"distrito_nome\"])\n",
    "del(dados[\"subprefeitura_nome\"])"
   ]
  },
  {
   "cell_type": "code",
   "execution_count": 15,
   "metadata": {
    "collapsed": false
   },
   "outputs": [],
   "source": [
    "feira = Feira.objects.create(**dados)"
   ]
  },
  {
   "cell_type": "code",
   "execution_count": 7,
   "metadata": {
    "collapsed": false
   },
   "outputs": [
    {
     "data": {
      "text/plain": [
       "(1, {u'feira.Feira': 1})"
      ]
     },
     "execution_count": 7,
     "metadata": {},
     "output_type": "execute_result"
    }
   ],
   "source": [
    "feira.delete()"
   ]
  },
  {
   "cell_type": "code",
   "execution_count": 17,
   "metadata": {
    "collapsed": false
   },
   "outputs": [
    {
     "data": {
      "text/plain": [
       "1001"
      ]
     },
     "execution_count": 17,
     "metadata": {},
     "output_type": "execute_result"
    }
   ],
   "source": [
    "feira.id"
   ]
  },
  {
   "cell_type": "code",
   "execution_count": 20,
   "metadata": {
    "collapsed": false
   },
   "outputs": [],
   "source": [
    "d = Distrito.objects.first()"
   ]
  },
  {
   "cell_type": "code",
   "execution_count": 21,
   "metadata": {
    "collapsed": false
   },
   "outputs": [
    {
     "data": {
      "text/plain": [
       "(1, u'AGUA RASA')"
      ]
     },
     "execution_count": 21,
     "metadata": {},
     "output_type": "execute_result"
    }
   ],
   "source": [
    "d.codigo, d.nome"
   ]
  },
  {
   "cell_type": "code",
   "execution_count": 25,
   "metadata": {
    "collapsed": false
   },
   "outputs": [
    {
     "data": {
      "text/plain": [
       "{u'area_ponderacao': u'3550308005040',\n",
       " u'bairro': u'VL FORMOSA',\n",
       " u'distrito_id': 87,\n",
       " u'latitude': u'-23558733',\n",
       " u'logradouro': u'RUA MARAGOJIPE',\n",
       " u'longitude': u'-46550164',\n",
       " u'nome': u'NOVA V. FORMOSA',\n",
       " u'numero': u'S/N',\n",
       " u'referencia': u'TV RUA PRETORIA',\n",
       " u'regiao_5': u'Leste',\n",
       " u'regiao_8': u'Leste 1',\n",
       " u'registro': u'4041-0',\n",
       " u'setor_censitario': u'355030885000091',\n",
       " u'subprefeitura_id': 26}"
      ]
     },
     "execution_count": 25,
     "metadata": {},
     "output_type": "execute_result"
    }
   ],
   "source": [
    "json.loads(\"\"\"{\n",
    "  \"referencia\": \"TV RUA PRETORIA\",\n",
    "  \"regiao_5\": \"Leste\",\n",
    "  \"longitude\": \"-46550164\",\n",
    "  \"area_ponderacao\": \"3550308005040\",\n",
    "  \"nome\": \"NOVA V. FORMOSA\",\n",
    "  \"bairro\": \"VL FORMOSA\",\n",
    "  \"subprefeitura_id\": 26,\n",
    "  \"logradouro\": \"RUA MARAGOJIPE\",\n",
    "  \"setor_censitario\": \"355030885000091\",\n",
    "  \"numero\": \"S/N\",\n",
    "  \"distrito_id\": 87,\n",
    "  \"registro\": \"4041-0\",\n",
    "  \"regiao_8\": \"Leste 1\",\n",
    "  \"latitude\": \"-23558733\"\n",
    "}\"\"\")"
   ]
  },
  {
   "cell_type": "code",
   "execution_count": 28,
   "metadata": {
    "collapsed": false
   },
   "outputs": [
    {
     "data": {
      "text/plain": [
       "{'area_ponderacao': '3550308005040',\n",
       " 'bairro': 'VL FORMOSA',\n",
       " 'distrito': 87,\n",
       " 'id': 1001,\n",
       " 'latitude': '-23558733',\n",
       " 'logradouro': 'RUA MARAGOJIPE',\n",
       " 'longitude': '-46550164',\n",
       " 'nome': 'VILA FORMOSA',\n",
       " 'numero': 'S/N',\n",
       " 'referencia': 'TV RUA PRETORIA',\n",
       " 'regiao_5': 'Leste',\n",
       " 'regiao_8': 'Leste 1',\n",
       " 'registro': '4041-0',\n",
       " 'setor_censitario': '355030885000091',\n",
       " 'subprefeitura': 26}"
      ]
     },
     "execution_count": 28,
     "metadata": {},
     "output_type": "execute_result"
    }
   ],
   "source": [
    "model_to_dict(feira) "
   ]
  },
  {
   "cell_type": "code",
   "execution_count": 32,
   "metadata": {
    "collapsed": false
   },
   "outputs": [
    {
     "data": {
      "text/plain": [
       "{'area_ponderacao': '3550308005040',\n",
       " 'bairro': 'VL FORMOSA',\n",
       " 'distrito_id': 87,\n",
       " 'id': 1001,\n",
       " 'latitude': '-23558733',\n",
       " 'logradouro': 'RUA MARAGOJIPE',\n",
       " 'longitude': '-46550164',\n",
       " 'nome': 'VILA FORMOSA',\n",
       " 'numero': 'S/N',\n",
       " 'referencia': 'TV RUA PRETORIA',\n",
       " 'regiao_5': 'Leste',\n",
       " 'regiao_8': 'Leste 1',\n",
       " 'registro': '4041-0',\n",
       " 'setor_censitario': '355030885000091',\n",
       " 'subprefeitura_id': 26}"
      ]
     },
     "execution_count": 32,
     "metadata": {},
     "output_type": "execute_result"
    }
   ],
   "source": [
    "{k: v for k, v in feira.__dict__.iteritems() if not k.startswith(\"_\")}"
   ]
  },
  {
   "cell_type": "code",
   "execution_count": null,
   "metadata": {
    "collapsed": true
   },
   "outputs": [],
   "source": []
  }
 ],
 "metadata": {
  "kernelspec": {
   "display_name": "Django Shell-Plus",
   "language": "python",
   "name": "django_extensions"
  },
  "language_info": {
   "codemirror_mode": {
    "name": "ipython",
    "version": 2
   },
   "file_extension": ".py",
   "mimetype": "text/x-python",
   "name": "python",
   "nbconvert_exporter": "python",
   "pygments_lexer": "ipython2",
   "version": "2.7.12+"
  }
 },
 "nbformat": 4,
 "nbformat_minor": 2
}
